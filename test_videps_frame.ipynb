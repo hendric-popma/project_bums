{
 "cells": [
  {
   "cell_type": "code",
   "execution_count": 1,
   "metadata": {},
   "outputs": [
    {
     "data": {
      "text/plain": [
       "<Figure size 640x480 with 0 Axes>"
      ]
     },
     "metadata": {},
     "output_type": "display_data"
    }
   ],
   "source": [
    "import cv2\n",
    "import numpy as np \n",
    "import matplotlib.pyplot as plt \n",
    "from tools import *\n",
    "plt.gray()"
   ]
  },
  {
   "cell_type": "code",
   "execution_count": 2,
   "metadata": {},
   "outputs": [],
   "source": [
    "frames = read_video_frames(\"/Users/hendricpopma/Documents/Uni/Uni_6_Sem/Bums/test_videos/kempten1.MOV\")\n",
    "### video2\n",
    "#frames = read_video_frames(\"/Users/hendricpopma/Documents/Uni/Uni_6_Sem/Bums/test_videos/kempten2.MOV\")"
   ]
  },
  {
   "cell_type": "code",
   "execution_count": 8,
   "metadata": {},
   "outputs": [
    {
     "name": "stdout",
     "output_type": "stream",
     "text": [
      "right\n",
      "right\n",
      "right\n",
      "right\n",
      "right\n",
      "right\n",
      "right\n",
      "right\n",
      "right\n",
      "right\n",
      "right\n",
      "right\n",
      "right\n",
      "right\n",
      "right\n",
      "right\n",
      "right\n",
      "right\n",
      "right\n",
      "right\n",
      "right\n",
      "right\n",
      "right\n",
      "right\n",
      "right\n",
      "right\n",
      "right\n",
      "right\n",
      "right\n",
      "right\n",
      "right\n",
      "right\n",
      "right\n",
      "right\n",
      "right\n",
      "right\n",
      "right\n",
      "right\n",
      "right\n",
      "right\n",
      "right\n",
      "right\n",
      "right\n",
      "right\n",
      "right\n",
      "right\n",
      "right\n",
      "right\n",
      "right\n",
      "right\n",
      "right\n",
      "right\n",
      "right\n",
      "right\n",
      "right\n",
      "right\n",
      "right\n",
      "right\n",
      "right\n",
      "right\n",
      "right\n",
      "right\n",
      "right\n",
      "right\n",
      "right\n",
      "right\n",
      "right\n",
      "right\n",
      "right\n",
      "right\n",
      "right\n",
      "right\n",
      "right\n",
      "right\n",
      "right\n",
      "right\n",
      "right\n",
      "right\n",
      "right\n",
      "right\n",
      "right\n",
      "right\n",
      "right\n",
      "right\n",
      "right\n",
      "right\n",
      "right\n",
      "right\n",
      "right\n",
      "right\n",
      "right\n",
      "right\n",
      "right\n",
      "right\n",
      "right\n",
      "right\n",
      "right\n",
      "right\n",
      "right\n",
      "right\n"
     ]
    },
    {
     "data": {
      "image/png": "[encoded data removed]",
      "text/plain": [
       "<Figure size 640x480 with 1 Axes>"
      ]
     },
     "metadata": {},
     "output_type": "display_data"
    },
    {
     "ename": "",
     "evalue": "",
     "output_type": "error",
     "traceback": [
      "\u001b[1;31mThe Kernel crashed while executing code in the the current cell or a previous cell. Please review the code in the cell(s) to identify a possible cause of the failure. Click <a href='https://aka.ms/vscodeJupyterKernelCrash'>here</a> for more info. View Jupyter <a href='command:jupyter.viewOutput'>log</a> for further details."
     ]
    }
   ],
   "source": [
    "frames = frames[0:300]\n",
    "#img = frames[230][1]\n",
    "### video2\n",
    "img = frames[175][1]\n",
    "#plt.imshow(img)\n",
    "#make line in the middle of object\n",
    "#img_thresh = thresh_gauss(img)\n",
    "#img_cont = find_max_contour(img_thresh)\n",
    "img_cont = img_cont = seg_orientation_lines(img, \"W\")\n",
    "# cut image in half \n",
    "#cut = 1000\n",
    "\n",
    "cut = int(4/5 * img.shape[0])\n",
    "black_up = img_cont[:cut,:]\n",
    "black_down = img_cont[cut:,:]\n",
    "#find center of both halfs\n",
    "c_black_up, koords_up = find_center_plot(black_up)\n",
    "c_black_down, koords_down = find_center_plot(black_down)\n",
    "# concatenate both halfs\n",
    "c_new = np.concatenate((c_black_up, c_black_down))\n",
    "# make line through middle \n",
    "koords = calc_line_koords(koords_up[0], koords_up[1], koords_down[0], koords_down[1]+cut, [0,img.shape[0]])\n",
    "img_line = cv2.line(c_new, koords[0], koords[1], [0,0,0], 20)\n",
    "canny = cv2.Canny(img_line, 0, 0)\n",
    "plt.imshow(canny)\n",
    "img_cut = img_line.copy()\n",
    "#TODO pixel over shape\n",
    "one = canny[1910,:] > 0\n",
    "### video2\n",
    "#one = canny[1070,:] > 0\n",
    "\n",
    "#xposition where img is white at bottom\n",
    "on = np.where(one==True)\n",
    "#dist = abs(on[0][0]-on[0][3])\n",
    "\n",
    "#make black in line \n",
    "#TODO make good offset \n",
    "img_cut[:,on[0][0]-10:on[0][-1]+10] = 0\n",
    "#in half make black\n",
    "img_cut[:1000,:] = 0\n",
    "#plt.imshow(img_cut)\n",
    "cnts,_ = cv2.findContours(img_cut, cv2.RETR_EXTERNAL, cv2.CHAIN_APPROX_SIMPLE)\n",
    "new = cv2.merge((img_line, img_line, img_line))\n",
    "\n",
    "cnts_idx = []\n",
    "for i in range(0,len(cnts)):\n",
    "    # Calculate the bounding rectangle of the contour\n",
    "    x, y, w, h = cv2.boundingRect(cnts[i])\n",
    "    if w/h > 1:\n",
    "        cv2.drawContours(new, cnts, i, [255,0,0], 2)\n",
    "        cnts_idx.append(i)\n",
    "koords_hor = []        \n",
    "for i in cnts_idx:\n",
    "    _,cent = find_center_plot(cnts[i])\n",
    "    cv2.circle(new,cent,10, [255,0,0], cv2.FILLED)\n",
    "    koords_hor.append(cent)\n",
    "\n",
    "new = put_text_image(new, \"test\")\n",
    "\n",
    "if len(koords_hor) == 1:\n",
    "    if koords_hor[0][0] < (koords[0][0]+koords[1][0])/2:\n",
    "        print(\"left\")\n",
    "    if koords_hor[0][0] > (koords[0][0]+koords[1][0])/2:\n",
    "        print(\"right\")\n",
    "elif len(koords_hor) == 2:\n",
    "    if koords_hor[0][0] < (koords[0][0]+koords[1][0])/2 and koords_hor[1][0] > (koords[0][0]+koords[1][0])/2:\n",
    "        print(\"left and right\")\n",
    "\n",
    "plt.imshow(new)\n",
    "\n",
    "# rows,cols = img.shape[:2]\n",
    "# [vx,vy,x,y] = cv2.fitLine(cnts[1], cv2.DIST_L2,0,0.01,0.01) \n",
    "# lefty = int((-x*vy/vx) + y)\n",
    "# righty = int(((cols-x)*vy/vx)+y) \n",
    "# cv2.line(new,(cols-1,righty),(0,lefty),(0,255,0),2)\n",
    "# plt.imshow(new)"
   ]
  },
  {
   "cell_type": "code",
   "execution_count": null,
   "metadata": {},
   "outputs": [],
   "source": [
    "test  = draw_seg_orientationline(img, img_line)\n",
    "plt.imshow(test)"
   ]
  },
  {
   "cell_type": "code",
   "execution_count": 3,
   "metadata": {},
   "outputs": [],
   "source": [
    "from tools_class import * \n",
    "frames = frames[0:300]\n",
    "frames = frames[10][1]\n",
    "frame = FrameObject(frames)"
   ]
  },
  {
   "cell_type": "code",
   "execution_count": 7,
   "metadata": {},
   "outputs": [
    {
     "ename": "error",
     "evalue": "OpenCV(4.7.0) :-1: error: (-5:Bad argument) in function 'Canny'\n> Overload resolution failed:\n>  - image is not a numpy array, neither a scalar\n>  - Expected Ptr<cv::UMat> for argument 'image'\n>  - Canny() missing required argument 'threshold2' (pos 4)\n>  - Canny() missing required argument 'threshold2' (pos 4)\n",
     "output_type": "error",
     "traceback": [
      "\u001b[0;31m---------------------------------------------------------------------------\u001b[0m",
      "\u001b[0;31merror\u001b[0m                                     Traceback (most recent call last)",
      "Cell \u001b[0;32mIn[7], line 1\u001b[0m\n\u001b[0;32m----> 1\u001b[0m frame\u001b[39m.\u001b[39;49mcanny()\n",
      "File \u001b[0;32m~/Documents/Uni/Uni_6_Sem/Bums/project_bums/tools_class.py:85\u001b[0m, in \u001b[0;36mFrameObject.canny\u001b[0;34m(self)\u001b[0m\n\u001b[1;32m     84\u001b[0m \u001b[39mdef\u001b[39;00m \u001b[39mcanny\u001b[39m(\u001b[39mself\u001b[39m):\n\u001b[0;32m---> 85\u001b[0m     \u001b[39mreturn\u001b[39;00m cv2\u001b[39m.\u001b[39;49mCanny(\u001b[39mself\u001b[39;49m, \u001b[39m0\u001b[39;49m, \u001b[39m0\u001b[39;49m)\n",
      "\u001b[0;31merror\u001b[0m: OpenCV(4.7.0) :-1: error: (-5:Bad argument) in function 'Canny'\n> Overload resolution failed:\n>  - image is not a numpy array, neither a scalar\n>  - Expected Ptr<cv::UMat> for argument 'image'\n>  - Canny() missing required argument 'threshold2' (pos 4)\n>  - Canny() missing required argument 'threshold2' (pos 4)\n"
     ]
    }
   ],
   "source": [
    "frame.canny()"
   ]
  }
 ],
 "metadata": {
  "kernelspec": {
   "display_name": "bums",
   "language": "python",
   "name": "python3"
  },
  "language_info": {
   "codemirror_mode": {
    "name": "ipython",
    "version": 3
   },
   "file_extension": ".py",
   "mimetype": "text/x-python",
   "name": "python",
   "nbconvert_exporter": "python",
   "pygments_lexer": "ipython3",
   "version": "3.10.0"
  },
  "orig_nbformat": 4
 },
 "nbformat": 4,
 "nbformat_minor": 2
}
