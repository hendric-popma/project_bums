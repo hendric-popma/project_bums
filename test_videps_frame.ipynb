{
 "cells": [
  {
   "cell_type": "code",
   "execution_count": null,
   "metadata": {},
   "outputs": [],
   "source": [
    "import cv2\n",
    "import numpy as np \n",
    "import matplotlib.pyplot as plt \n",
    "from tools import *\n",
    "plt.gray()"
   ]
  },
  {
   "cell_type": "code",
   "execution_count": null,
   "metadata": {},
   "outputs": [],
   "source": [
    "frames = read_video_frames(\"/Users/hendricpopma/Documents/Uni/Uni_6_Sem/Bums/test_videos/kempten1.MOV\")\n",
    "### video2\n",
    "#frames = read_video_frames(\"/Users/hendricpopma/Documents/Uni/Uni_6_Sem/Bums/test_videos/kempten2.MOV\")\n"
   ]
  },
  {
   "cell_type": "code",
   "execution_count": null,
   "metadata": {},
   "outputs": [],
   "source": [
    "frames = frames[0:300]\n",
    "#img = frames[230][1]\n",
    "### video2\n",
    "img = frames[175][1]\n",
    "#plt.imshow(img)\n",
    "#make line in the middle of object\n",
    "#img_thresh = thresh_gauss(img)\n",
    "#img_cont = find_max_contour(img_thresh)\n",
    "img_cont = img_cont = seg_orientation_lines(img, \"W\")\n",
    "# cut image in half \n",
    "#cut = 1000\n",
    "\n",
    "cut = int(4/5 * img.shape[0])\n",
    "black_up = img_cont[:cut,:]\n",
    "black_down = img_cont[cut:,:]\n",
    "#find center of both halfs\n",
    "c_black_up, koords_up = find_center_plot(black_up)\n",
    "c_black_down, koords_down = find_center_plot(black_down)\n",
    "# concatenate both halfs\n",
    "c_new = np.concatenate((c_black_up, c_black_down))\n",
    "# make line through middle \n",
    "koords = calc_line_koords(koords_up[0], koords_up[1], koords_down[0], koords_down[1]+cut, [0,img.shape[0]])\n",
    "img_line = cv2.line(c_new, koords[0], koords[1], [0,0,0], 20)\n",
    "canny = cv2.Canny(img_line, 0, 0)\n",
    "plt.imshow(canny)\n",
    "img_cut = img_line.copy()\n",
    "#TODO pixel over shape\n",
    "one = canny[1910,:] > 0\n",
    "### video2\n",
    "#one = canny[1070,:] > 0\n",
    "\n",
    "#xposition where img is white at bottom\n",
    "on = np.where(one==True)\n",
    "#dist = abs(on[0][0]-on[0][3])\n",
    "\n",
    "#make black in line \n",
    "#TODO make good offset \n",
    "img_cut[:,on[0][0]-10:on[0][-1]+10] = 0\n",
    "#in half make black\n",
    "img_cut[:1000,:] = 0\n",
    "#plt.imshow(img_cut)\n",
    "cnts,_ = cv2.findContours(img_cut, cv2.RETR_EXTERNAL, cv2.CHAIN_APPROX_SIMPLE)\n",
    "new = cv2.merge((img_line, img_line, img_line))\n",
    "\n",
    "cnts_idx = []\n",
    "for i in range(0,len(cnts)):\n",
    "    # Calculate the bounding rectangle of the contour\n",
    "    x, y, w, h = cv2.boundingRect(cnts[i])\n",
    "    if w/h > 1:\n",
    "        cv2.drawContours(new, cnts, i, [255,0,0], 2)\n",
    "        cnts_idx.append(i)\n",
    "koords_hor = []        \n",
    "for i in cnts_idx:\n",
    "    _,cent = find_center_plot(cnts[i])\n",
    "    cv2.circle(new,cent,10, [255,0,0], cv2.FILLED)\n",
    "    koords_hor.append(cent)\n",
    "\n",
    "new = put_text_image(new, \"test\")\n",
    "\n",
    "if len(koords_hor) == 1:\n",
    "    if koords_hor[0][0] < (koords[0][0]+koords[1][0])/2:\n",
    "        print(\"left\")\n",
    "    if koords_hor[0][0] > (koords[0][0]+koords[1][0])/2:\n",
    "        print(\"right\")\n",
    "elif len(koords_hor) == 2:\n",
    "    if koords_hor[0][0] < (koords[0][0]+koords[1][0])/2 and koords_hor[1][0] > (koords[0][0]+koords[1][0])/2:\n",
    "        print(\"left and right\")\n",
    "\n",
    "plt.imshow(new)\n",
    "# rows,cols = img.shape[:2]\n",
    "# [vx,vy,x,y] = cv2.fitLine(cnts[1], cv2.DIST_L2,0,0.01,0.01) \n",
    "# lefty = int((-x*vy/vx) + y)\n",
    "# righty = int(((cols-x)*vy/vx)+y) \n",
    "# cv2.line(new,(cols-1,righty),(0,lefty),(0,255,0),2)\n",
    "# plt.imshow(new)"
   ]
  },
  {
   "cell_type": "code",
   "execution_count": null,
   "metadata": {},
   "outputs": [],
   "source": [
    "test  = draw_seg_orientationline(img, img_line)\n",
    "plt.imshow(test)"
   ]
  },
  {
   "cell_type": "code",
   "execution_count": null,
   "metadata": {},
   "outputs": [],
   "source": [
    "# Define the text and its properties\n",
    "text = 'Hello, World!'\n",
    "font = cv2.FONT_HERSHEY_SIMPLEX\n",
    "font_scale = 1.0\n",
    "thickness = 2\n",
    "color = (0, 255, 0)  # Green color in BGR format\n",
    "\n",
    "# Get the text size\n",
    "(text_width, text_height), _ = cv2.getTextSize(text, font, font_scale, thickness)\n",
    "\n",
    "# Create a rectangle around the text\n",
    "start_point = (koords[0][0], cent[0][1] - text_height)\n",
    "end_point = (koords[0][0] + text_width, koords[0][1])\n",
    "#cv2.rectangle(new, start_point, end_point, color, thickness)\n",
    "\n",
    "# Add the text to the image\n",
    "cv2.putText(new, text, (x, y), font, font_scale, color, thickness)\n",
    "\n"
   ]
  },
  {
   "cell_type": "code",
   "execution_count": null,
   "metadata": {},
   "outputs": [],
   "source": [
    "\n",
    "def rolling_average(arr, window_size):\n",
    "    # Create a kernel for the rolling average\n",
    "    kernel = np.ones(window_size) / window_size\n",
    "\n",
    "    # Apply the rolling average using convolution\n",
    "    rolling_avg = np.convolve(arr, kernel, mode='valid')\n",
    "\n",
    "    return rolling_avg\n"
   ]
  },
  {
   "cell_type": "code",
   "execution_count": null,
   "metadata": {},
   "outputs": [],
   "source": [
    "arr = np.array([1, 2, 3, 4, 5])\n",
    "\n",
    "# Define the condition\n",
    "condition = arr > 2\n",
    "\n",
    "# Hold the value after the condition using numpy.where\n",
    "arr = np.where(condition, arr[condition][-1], arr)\n",
    "arr"
   ]
  }
 ],
 "metadata": {
  "kernelspec": {
   "display_name": "bums",
   "language": "python",
   "name": "python3"
  },
  "language_info": {
   "codemirror_mode": {
    "name": "ipython",
    "version": 3
   },
   "file_extension": ".py",
   "mimetype": "text/x-python",
   "name": "python",
   "nbconvert_exporter": "python",
   "pygments_lexer": "ipython3",
   "version": "3.10.0"
  },
  "orig_nbformat": 4
 },
 "nbformat": 4,
 "nbformat_minor": 2
}
