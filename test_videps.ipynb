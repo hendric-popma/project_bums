{
 "cells": [
  {
   "cell_type": "code",
   "execution_count": 2,
   "metadata": {},
   "outputs": [
    {
     "data": {
      "text/plain": [
       "<Figure size 640x480 with 0 Axes>"
      ]
     },
     "metadata": {},
     "output_type": "display_data"
    }
   ],
   "source": [
    "import cv2\n",
    "import numpy as np \n",
    "import matplotlib.pyplot as plt \n",
    "from tools import *\n",
    "plt.gray()"
   ]
  },
  {
   "cell_type": "code",
   "execution_count": 22,
   "metadata": {},
   "outputs": [],
   "source": [
    "frames = read_video_frames(\"/Users/hendricpopma/Documents/Uni/Uni_6_Sem/Bums/test_videos/kempten1.MOV\")\n",
    "### video2\n",
    "#frames = read_video_frames(\"/Users/hendricpopma/Documents/Uni/Uni_6_Sem/Bums/test_videos/kempten2.MOV\")\n"
   ]
  },
  {
   "cell_type": "code",
   "execution_count": null,
   "metadata": {},
   "outputs": [],
   "source": [
    "frames = frames[0:300]\n",
    "#img = frames[230][1]\n",
    "### video2\n",
    "img = frames[1][1]\n",
    "#plt.imshow(img)"
   ]
  },
  {
   "cell_type": "code",
   "execution_count": 2,
   "metadata": {},
   "outputs": [],
   "source": [
    "#img = cv2.imread(\"/Users/hendricpopma/Documents/Uni/Uni_6_Sem/Bums/project_bums/Test_Bilder/IMG_7546.jpeg\" )"
   ]
  },
  {
   "cell_type": "code",
   "execution_count": null,
   "metadata": {},
   "outputs": [],
   "source": [
    "#img_test = seg_orientation_lines(img,\"W\")\n",
    "#plt.imshow(img)"
   ]
  },
  {
   "cell_type": "code",
   "execution_count": 42,
   "metadata": {},
   "outputs": [],
   "source": [
    "#make line in the middle of object\n",
    "img_thresh = thresh_gauss(img)\n",
    "img_cont = find_max_contour(img_thresh)\n",
    "# cut image in half \n",
    "#cut = 1000\n",
    "\n",
    "cut = int(4/5 * img.shape[0])\n",
    "black_up = img_cont[:cut,:]\n",
    "black_down = img_cont[cut:,:]\n",
    "#find center of both halfs\n",
    "c_black_up, koords_up = find_center_plot(black_up)\n",
    "c_black_down, koords_down = find_center_plot(black_down)\n",
    "# concatenate both halfs\n",
    "c_new = np.concatenate((c_black_up, c_black_down))\n",
    "# make line through middle \n",
    "koords = calc_line_koords(koords_up[0], koords_up[1], koords_down[0], koords_down[1]+cut, [0,img.shape[0]])\n",
    "img_line = cv2.line(c_new, koords[0], koords[1], [0,0,0], 20)"
   ]
  },
  {
   "cell_type": "code",
   "execution_count": null,
   "metadata": {},
   "outputs": [],
   "source": [
    "#plt.imshow(img_line)"
   ]
  },
  {
   "cell_type": "code",
   "execution_count": null,
   "metadata": {},
   "outputs": [],
   "source": [
    "canny = cv2.Canny(img_line, 0, 0)\n",
    "plt.imshow(canny)"
   ]
  },
  {
   "cell_type": "code",
   "execution_count": 47,
   "metadata": {},
   "outputs": [
    {
     "data": {
      "text/plain": [
       "(array([267, 437, 458, 603]),)"
      ]
     },
     "execution_count": 47,
     "metadata": {},
     "output_type": "execute_result"
    },
    {
     "data": {
      "image/png": "[encoded data removed]",
      "text/plain": [
       "<Figure size 640x480 with 1 Axes>"
      ]
     },
     "metadata": {},
     "output_type": "display_data"
    }
   ],
   "source": [
    "img_cut = img_line.copy()\n",
    "#TODO pixel over shape\n",
    "#one = canny[1910,:] > 0\n",
    "### video2\n",
    "one = canny[1070,:] > 0\n",
    "\n",
    "#xposition where img is white at bottom\n",
    "on = np.where(one==True)\n",
    "#dist = abs(on[0][0]-on[0][3])\n",
    "\n",
    "#make black in line \n",
    "img_cut[:,on[0][0]-10:on[0][-1]+10] = 0\n",
    "#in half make black\n",
    "#img_cut[:1000,:] = 0\n",
    "#plt.imshow(img_cut)\n",
    "on"
   ]
  },
  {
   "cell_type": "code",
   "execution_count": 1,
   "metadata": {},
   "outputs": [
    {
     "ename": "NameError",
     "evalue": "name 'cv2' is not defined",
     "output_type": "error",
     "traceback": [
      "\u001b[0;31m---------------------------------------------------------------------------\u001b[0m",
      "\u001b[0;31mNameError\u001b[0m                                 Traceback (most recent call last)",
      "Cell \u001b[0;32mIn[1], line 1\u001b[0m\n\u001b[0;32m----> 1\u001b[0m cnts,_ \u001b[39m=\u001b[39m cv2\u001b[39m.\u001b[39mfindContours(img_cut, cv2\u001b[39m.\u001b[39mRETR_EXTERNAL, cv2\u001b[39m.\u001b[39mCHAIN_APPROX_SIMPLE)\n\u001b[1;32m      2\u001b[0m new \u001b[39m=\u001b[39m cv2\u001b[39m.\u001b[39mmerge((img_line, img_line, img_line))\n\u001b[1;32m      4\u001b[0m cnts_idx \u001b[39m=\u001b[39m []\n",
      "\u001b[0;31mNameError\u001b[0m: name 'cv2' is not defined"
     ]
    }
   ],
   "source": [
    "cnts,_ = cv2.findContours(img_cut, cv2.RETR_EXTERNAL, cv2.CHAIN_APPROX_SIMPLE)\n",
    "new = cv2.merge((img_line, img_line, img_line))\n",
    "\n",
    "cnts_idx = []\n",
    "for i in range(0,len(cnts)):\n",
    "    # Calculate the bounding rectangle of the contour\n",
    "    x, y, w, h = cv2.boundingRect(cnts[i])\n",
    "    if w/h > 1:\n",
    "        cv2.drawContours(new, cnts, i, [255,0,0], 2)\n",
    "        cnts_idx.append(i)\n",
    "koords_hor = []        \n",
    "for i in cnts_idx:\n",
    "    _,cent = find_center_plot(cnts[i])\n",
    "    cv2.circle(new,cent,10, [255,0,0], cv2.FILLED)\n",
    "    koords_hor.append(cent)\n",
    "\n",
    "\n",
    "if len(koords_hor) == 1:\n",
    "    if koords_hor[0][0] < (koords[0][0]+koords[1][0])/2:\n",
    "        print(\"left\")\n",
    "    if koords_hor[0][0] > (koords[0][0]+koords[1][0])/2:\n",
    "        print(\"right\")\n",
    "elif len(koords_hor) == 2:\n",
    "    if koords_hor[0][0] < (koords[0][0]+koords[1][0])/2 and koords_hor[1][0] > (koords[0][0]+koords[1][0])/2:\n",
    "        print(\"left and right\")\n",
    "\n",
    "plt.imshow(new)"
   ]
  },
  {
   "attachments": {},
   "cell_type": "markdown",
   "metadata": {},
   "source": [
    "\n",
    "linesh = cv2.HoughLinesP(canny, 1, np.pi/180, 100,\n",
    "                        minLineLength=200, maxLineGap=50)\n",
    "\n",
    "lines=np.squeeze(linesh)\n",
    "black_new = cv2.merge((img_line, img_line, img_line))\n",
    "black = np.zeros(np.shape(img),dtype='uint8')\n",
    "for (x1,y1,x2,y2) in lines:\n",
    "    #find horizontal lines\n",
    "    if abs(y1-y2) < 50:\n",
    "        cv2.line(black, (x1,y1), (x2,y2), (255,0,0),5)\n",
    "plt.imshow(black)\n",
    "\n",
    "\n",
    "# x11 = []\n",
    "# x22 = []\n",
    "# y11 = []\n",
    "# y22 = []\n",
    "# for (x1,y1,x2,y2) in lines:\n",
    "#     #find horizontal lines\n",
    "#     if abs(x1-x2) > 200:\n",
    "#         x11.append(x1)\n",
    "#         x22.append(x2)\n",
    "#         y11.append(y1)\n",
    "#         y22.append(y2)\n",
    "# x11 = np.array(x11)\n",
    "# y11 = np.array(y11)\n",
    "# x22 = np.array(x22)\n",
    "# y22 = np.array(y22)\n",
    "# #dont plot if no horizontal line \n",
    "# if len(x11) > 1: \n",
    "#     cv2.line(black_new, (int(x11.mean()),int(y11.mean())), (int(x22.mean()), int(y22.mean())), (0,255,0), 20)\n",
    "# plt.imshow(black_new)\n",
    "# h_line = [int(x11.mean()),int(y11.mean()), int(x22.mean()), int(y22.mean())]"
   ]
  },
  {
   "attachments": {},
   "cell_type": "markdown",
   "metadata": {},
   "source": [
    "kernel = np.array([[0,0,0],[0,0,0],[0,1,0],[0,0,0],[0,0,0]])\n",
    "new = cv2.filter2D(canny,-1, kernel)\n",
    "plt.imshow(new)"
   ]
  },
  {
   "attachments": {},
   "cell_type": "markdown",
   "metadata": {},
   "source": [
    "test_array = np.array([[0,0,0,0],[0,0,255,255],[255,255,0,0],[0,0,0,0]])"
   ]
  },
  {
   "attachments": {},
   "cell_type": "markdown",
   "metadata": {},
   "source": [
    "arr = test_array[:,2:]\n",
    "np.max(arr[0:2],axis=0)\n"
   ]
  },
  {
   "attachments": {},
   "cell_type": "markdown",
   "metadata": {},
   "source": [
    "col = []\n",
    "for x in range(0,canny.shape[0],3):\n",
    "    for y in range(0,canny.shape[1],3):\n",
    "        arr = canny[:,x:x+3]\n",
    "        part = np.max(arr[y:y+3],axis=0)\n",
    "        col.append(part)\n",
    "        col_arr = np.array([col])"
   ]
  },
  {
   "attachments": {},
   "cell_type": "markdown",
   "metadata": {},
   "source": [
    "#check for ways to go left or right\n",
    "koords[1][0]\n",
    "def check_with_parallel_lines(img,xkoord):\n",
    "    res = []\n",
    "    for x in [-500,-300,300,500]:\n",
    "        ones = np.count_nonzero(img[int((1/2)*img.shape[0]):,xkoord+x] > 0)\n",
    "        res.append(ones)\n",
    "    return res\n",
    "res = check_with_parallel_lines(canny, koords[1][0])\n",
    "res2 = check_with_parallel_lines(img_line, koords[1][0])\n",
    "res\n"
   ]
  },
  {
   "attachments": {},
   "cell_type": "markdown",
   "metadata": {},
   "source": [
    "horizontal_lines = []\n",
    "x11 = []\n",
    "x22 = []\n",
    "for (x1,y1,x2,y2) in lines:\n",
    "    #find horizontal lines\n",
    "    if abs(y1-y2) < 50:\n",
    "        horizontal_lines.append([x1,y1,x2,y2])\n",
    "# h_lines = np.array(horizontal_lines).flatten()[0::4]\n",
    "# h_lines\n",
    "horizontal_lines"
   ]
  },
  {
   "attachments": {},
   "cell_type": "markdown",
   "metadata": {},
   "source": [
    "# find longest line vertical \n",
    "diffx = []\n",
    "for (x1,_,x2,_) in lines:\n",
    "    diffx.append(x2-x1)\n",
    "llinex = lines[diffx.index(max(diffx))]"
   ]
  },
  {
   "attachments": {},
   "cell_type": "markdown",
   "metadata": {},
   "source": [
    "#find intersections from script with offset line \n",
    "# so we get two/three intersections left and rigth from the \"masterline\"\n",
    "llinex = [int(x11.mean()),int(y11.mean()), int(x22.mean()), int(y22.mean())]\n",
    "l2 = [koords[0][0], koords[0][1], koords[1][0], koords[1][1]]\n",
    "def find_intersection(l1, l2, offset):\n",
    "    x1=l1[0]; y1=l1[1]\n",
    "    x2=l1[2]; y2=l1[3]\n",
    "    x3=l2[0]+offset; y3=l2[1]\n",
    "    x4=l2[2]+offset; y4=l2[3]\n",
    "    denom=(x1-x2)*(y3-y4) - (y1-y2)*(x3-x4)\n",
    "    #print(denom)\n",
    "    if(denom):\n",
    "        px=((x1*y2-y1*x2)*(x3-x4) - (x1-x2)*(x3*y4-y3*x4))/denom \n",
    "        py=((x1*y2-y1*x2)*(y3-y4) - (y1-y2)*(x3*y4-y3*x4))/denom\n",
    "    else: \n",
    "        px=-1\n",
    "        py=-1\n",
    "    return (px,py)\n",
    "sy,sx=img_line.shape\n",
    "px=[]\n",
    "py=[]\n",
    "for x in range(-50,50,50):\n",
    "    p=find_intersection(llinex,l2,x)\n",
    "    if(p[0]>0 and p[0]<sx and p[1]>0 and p[1]<sy):\n",
    "        px.append(p[0])\n",
    "        py.append(p[1])\n",
    "\n",
    "#res = final.copy()\n",
    "for x in range(len(px)):\n",
    "    #blank = cv2.circle(black_new, (px[x].astype('int'), py[x].astype('int')),100, [255,255,255], cv2.FILLED)\n",
    "    blank = cv2.circle(black_new, (int(px[x]), int(py[x])),100, [0,0,0], 10)\n",
    "plt.imshow(blank)"
   ]
  },
  {
   "attachments": {},
   "cell_type": "markdown",
   "metadata": {},
   "source": [
    "#line to right or left\n",
    "if px[0] - px[1] < 0: \n",
    "    print(\"go left\")\n",
    "elif px[0] - px[1] > 0: \n",
    "    print(\"go right\")\n",
    "if len(px) >= 2:\n",
    "    print(\"you can go left or right\") "
   ]
  }
 ],
 "metadata": {
  "kernelspec": {
   "display_name": "bums",
   "language": "python",
   "name": "python3"
  },
  "language_info": {
   "codemirror_mode": {
    "name": "ipython",
    "version": 3
   },
   "file_extension": ".py",
   "mimetype": "text/x-python",
   "name": "python",
   "nbconvert_exporter": "python",
   "pygments_lexer": "ipython3",
   "version": "3.10.0"
  },
  "orig_nbformat": 4
 },
 "nbformat": 4,
 "nbformat_minor": 2
}
