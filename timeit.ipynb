{
 "cells": [
  {
   "cell_type": "code",
   "execution_count": 3,
   "metadata": {},
   "outputs": [
    {
     "name": "stdout",
     "output_type": "stream",
     "text": [
      "\n",
      "You did a great Job!\n",
      "2329\n",
      "Durchschnittliche Ausführungszeit pro Frame: 0.02203656337483889\n"
     ]
    },
    {
     "ename": "",
     "evalue": "",
     "output_type": "error",
     "traceback": [
      "\u001b[1;31mThe Kernel crashed while executing code in the the current cell or a previous cell. Please review the code in the cell(s) to identify a possible cause of the failure. Click <a href='https://aka.ms/vscodeJupyterKernelCrash'>here</a> for more info. View Jupyter <a href='command:jupyter.viewOutput'>log</a> for further details."
     ]
    }
   ],
   "source": [
    "import cv2\n",
    "import timeit\n",
    "import matplotlib.pyplot as plt\n",
    "from tools import user_input, FrameObject, FindDirection, Segmentation\n",
    "\n",
    "frame_count =0\n",
    "total_time = 0\n",
    "\n",
    "# Open the video file\n",
    "video, line_color, total_frames = user_input()\n",
    "print(total_frames)\n",
    "# init class/values for while loop\n",
    "direct = FindDirection()\n",
    "#loop through all frames of video\n",
    "while video.isOpened():\n",
    "    #Read a single frame\n",
    "    ret, frame = video.read()\n",
    "    if not ret:\n",
    "        print(\"Error load frame\")\n",
    "        break\n",
    "\n",
    "    #counter = counter +1\n",
    "    def Bildverarbeitung(frame):\n",
    "        #Create a Frame Object\n",
    "        frame = FrameObject(frame)\n",
    "        #get image from FrameObject\n",
    "        img = frame.img\n",
    "        #Create Segmemtation Object  \n",
    "        seg = Segmentation(frame, line_color)\n",
    "        #get the orientation line\n",
    "        img_seg = seg.get_orientation_lines()\n",
    "        frame.build_center_line(img_seg)\n",
    "        #used later to find the directions\n",
    "        img = frame.make_block_over_center_line()\n",
    "        \n",
    "        # Get Values from FrameObject to Direction Object\n",
    "        direct.get_values_from_frame_object(frame)\n",
    "        direct.wait_for_complete_contour(img)\n",
    "        direct.find_nearest_line(img_seg)\n",
    "        direct.check_where_to_go()\n",
    "        res_text = direct.smooth_output()\n",
    "        frame.text_in_frame(res_text)\n",
    "        frame_show = frame.overlay_segmentation(img_seg)\n",
    "        \n",
    "        #counter += 1\n",
    "        #cv2.putText(frame_show, f'Frame: {counter}', (10, 30), cv2.FONT_HERSHEY_SIMPLEX, 1, (0, 255, 0), 2)\n",
    "        cv2.imshow('Processed Frame',frame_show)\n",
    "    #cv2.waitKey(0) #just for Evaluierung\n",
    "\n",
    "    Bildverarbeitung(frame);\n",
    "    \n",
    "    frame_count += 1\n",
    "\n",
    "    # Messen Sie die Ausführungszeit für die Verarbeitung eines einzelnen Frames\n",
    "    execution_time = timeit.timeit(lambda: Bildverarbeitung(frame), number=1)\n",
    "\n",
    "    total_time += execution_time\n",
    "\n",
    "    # Check for key press to exit\n",
    "    if cv2.waitKey(1) & 0xFF == ord('q'):\n",
    "        break\n",
    "    if video.get(cv2.CAP_PROP_POS_FRAMES) == total_frames:\n",
    "        break\n",
    "\n",
    "    # if counter == 1375:\n",
    "    #     img_out = cv2.cvtColor(frame_show, cv2.COLOR_BGR2RGB)\n",
    "    #     plt.imshow(img_out)\n",
    "    #     plt.axis('off')\n",
    "    #     plt.savefig('ausgabe.jpg', format='jpeg', dpi=300)\n",
    "    #     plt.show()\n",
    "    #     break\n",
    "\n",
    "    #cv2.waitKey(0) #just for Evaluierung\n",
    "    # Release the video objects and close the windows\n",
    "    video.release()\n",
    "    cv2.destroyAllWindows()\n",
    "\n",
    "\n",
    "average_execution_time = total_time / frame_count\n",
    "print(\"Durchschnittliche Ausführungszeit pro Frame:\", average_execution_time)"
   ]
  }
 ],
 "metadata": {
  "kernelspec": {
   "display_name": "bums",
   "language": "python",
   "name": "python3"
  },
  "language_info": {
   "codemirror_mode": {
    "name": "ipython",
    "version": 3
   },
   "file_extension": ".py",
   "mimetype": "text/x-python",
   "name": "python",
   "nbconvert_exporter": "python",
   "pygments_lexer": "ipython3",
   "version": "3.8.2"
  },
  "orig_nbformat": 4
 },
 "nbformat": 4,
 "nbformat_minor": 2
}
