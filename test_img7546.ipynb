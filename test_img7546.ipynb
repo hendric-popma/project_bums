{
 "cells": [
  {
   "cell_type": "code",
   "execution_count": null,
   "metadata": {},
   "outputs": [],
   "source": [
    "import numpy as np \n",
    "import cv2 \n",
    "import matplotlib.pyplot as plt\n",
    "from tools import read_video_frames"
   ]
  },
  {
   "cell_type": "code",
   "execution_count": null,
   "metadata": {},
   "outputs": [],
   "source": [
    "img = cv2.imread(\"/Users/hendricpopma/Documents/Uni/Uni_6_Sem/Bums/project_bums/Test_Bilder/IMG_7546.jpeg\", 0 )\n",
    "plt.gray()"
   ]
  },
  {
   "cell_type": "code",
   "execution_count": null,
   "metadata": {},
   "outputs": [],
   "source": [
    "gauss = cv2.GaussianBlur(img, None, 10)\n",
    "plt.imshow(gauss)\n",
    "t, seg = cv2.threshold(gauss,200,1,cv2.THRESH_BINARY) #streifen = 200 +cv2.THRESH_OTSU\n",
    "plt.imshow(seg)"
   ]
  },
  {
   "cell_type": "code",
   "execution_count": null,
   "metadata": {},
   "outputs": [],
   "source": [
    "seg = cv2.dilate(seg, np.ones((7,7)), iterations=8) #7\n",
    "plt.imshow(seg)"
   ]
  },
  {
   "cell_type": "code",
   "execution_count": null,
   "metadata": {},
   "outputs": [],
   "source": [
    "#skeletonize \n",
    "def skeletonize(binary):\n",
    "    # Convert the image to grayscale\n",
    "    # gray = cv2.cvtColor(image, cv2.COLOR_BGR2GRAY)\n",
    "    \n",
    "    # # Threshold the image to create a binary image\n",
    "    # _, binary = cv2.threshold(gray, 127, 255, cv2.THRESH_BINARY)\n",
    "    \n",
    "    # Apply morphological operations to thin the image\n",
    "    size = np.size(binary)\n",
    "    skel = np.zeros(binary.shape, np.uint8)\n",
    "    \n",
    "    element = cv2.getStructuringElement(cv2.MORPH_CROSS, (3, 3))\n",
    "    done = False\n",
    "    \n",
    "    while not done:\n",
    "        eroded = cv2.erode(binary, element)\n",
    "        temp = cv2.dilate(eroded, element)\n",
    "        temp = cv2.subtract(binary, temp)\n",
    "        skel = cv2.bitwise_or(skel, temp)\n",
    "        binary = eroded.copy()\n",
    "        \n",
    "        zeros = size - cv2.countNonZero(binary)\n",
    "        if zeros == size:\n",
    "            done = True\n",
    "    \n",
    "    return skel"
   ]
  },
  {
   "cell_type": "code",
   "execution_count": null,
   "metadata": {},
   "outputs": [],
   "source": [
    "skel = skeletonize(seg)\n",
    "plt.imshow(skel)"
   ]
  },
  {
   "cell_type": "code",
   "execution_count": null,
   "metadata": {},
   "outputs": [],
   "source": [
    "cnts, hierachy = cv2.findContours(seg, cv2.RETR_EXTERNAL, cv2.CHAIN_APPROX_SIMPLE)\n",
    "out = cv2.merge((img, img, img))\n",
    "area = []\n",
    "for cnt in cnts:\n",
    "    area.append(cv2.contourArea(cnt))\n",
    "c_idx = area.index(max(area))\n",
    "\n",
    "cv2.drawContours(out, cnts, c_idx, [255,0,0], 10)\n",
    "plt.imshow(out)"
   ]
  },
  {
   "cell_type": "code",
   "execution_count": null,
   "metadata": {},
   "outputs": [],
   "source": [
    "#create box around contour\n",
    "rect = cv2.minAreaRect(cnts[c_idx])\n",
    "box = cv2.boxPoints(rect)\n",
    "box = np.int0(box) \n",
    "cv2.drawContours(out,[box],0,(0,0,255),2)\n",
    "plt.imshow(out)"
   ]
  },
  {
   "cell_type": "code",
   "execution_count": null,
   "metadata": {},
   "outputs": [],
   "source": [
    "#find center of ther contour\n",
    "m = cv2.moments(cnts[c_idx])\n",
    "cX = int(m[\"m10\"] / m[\"m00\"])\n",
    "cY = int(m[\"m01\"] / m[\"m00\"])\n",
    "res = cv2.circle(out, (cX, cY),100, [0,0,255], cv2.FILLED)\n",
    "cv2.line(res, (cX,0),(cX,4000), [0, 0, 255], 10)\n",
    "plt.imshow(res)"
   ]
  },
  {
   "cell_type": "code",
   "execution_count": null,
   "metadata": {},
   "outputs": [],
   "source": [
    "#add to master \n",
    "def find_center_plot(img):\n",
    "    m = cv2.moments(img)\n",
    "    cX = int(m[\"m10\"] / m[\"m00\"])\n",
    "    cY = int(m[\"m01\"] / m[\"m00\"])\n",
    "    center_koords =  [cX,cY]\n",
    "    img_res = cv2.circle(img, (cX, cY),100, [0,0,255], cv2.FILLED)\n",
    "    return img_res, center_koords"
   ]
  },
  {
   "cell_type": "code",
   "execution_count": null,
   "metadata": {},
   "outputs": [],
   "source": [
    "#fit line through contour\n",
    "rows,cols = img.shape[:2]\n",
    "[vx,vy,x,y] = cv2.fitLine(cnts[c_idx], cv2.DIST_L2,0,0.01,0.01)\n",
    "x1 = int(x+2000*vx)\n",
    "y1 = int(y+2000*vy)\n",
    "cv2.line(out,(int(x), int(y)),(x1,y1),(0,255,0),10)\n",
    "plt.imshow(out)\n",
    "[vx,vy,x,y]"
   ]
  },
  {
   "cell_type": "code",
   "execution_count": null,
   "metadata": {},
   "outputs": [],
   "source": [
    "\n",
    "black = np.zeros(np.shape(img),dtype='uint8')\n",
    "cv2.drawContours(black, cnts, c_idx, [255,255,255], cv2.FILLED)\n",
    "plt.imshow(black)"
   ]
  },
  {
   "cell_type": "code",
   "execution_count": null,
   "metadata": {},
   "outputs": [],
   "source": [
    "skel = skeletonize(black)\n",
    "plt.imshow(skel)"
   ]
  },
  {
   "cell_type": "code",
   "execution_count": null,
   "metadata": {},
   "outputs": [],
   "source": [
    "linesh = cv2.HoughLinesP(skel, 1, np.pi/180, 60,\n",
    "                        minLineLength=100, maxLineGap=300)\n",
    "\n",
    "lines=np.squeeze(linesh)\n",
    "black_new = cv2.merge((black, black, black))\n",
    "for (x1,y1,x2,y2) in lines:\n",
    "    cv2.line(black_new, (x1,y1), (x2,y2), (255,0,0), 20)\n",
    "plt.imshow(black_new)"
   ]
  },
  {
   "cell_type": "code",
   "execution_count": null,
   "metadata": {},
   "outputs": [],
   "source": [
    "black_up = black[:3000,:]\n",
    "black_down = black[3000:,:]"
   ]
  },
  {
   "cell_type": "code",
   "execution_count": null,
   "metadata": {},
   "outputs": [],
   "source": [
    "c_black_up, koords_up = find_center_plot(black_up)\n",
    "c_black_down, koords_down = find_center_plot(black_down)"
   ]
  },
  {
   "cell_type": "code",
   "execution_count": null,
   "metadata": {},
   "outputs": [],
   "source": [
    "c_new = np.concatenate((c_black_up, c_black_down))\n",
    "cv2.line(c_new, koords_up, (koords_down[0],koords_down[1]+3000), [0, 0, 0], 20)\n",
    "plt.imshow(c_new)"
   ]
  },
  {
   "attachments": {},
   "cell_type": "markdown",
   "metadata": {},
   "source": [
    "y = m*x +b  Pup(1444, 2569)  Pdown(1349, 3577)\n",
    "y1 = m*x1 +b -> b = y1 / m*x1\n",
    "y2 = m*x2 +b -> \n",
    "m = "
   ]
  },
  {
   "cell_type": "code",
   "execution_count": null,
   "metadata": {},
   "outputs": [],
   "source": [
    "def calc_line_koords(x1,y1,x2,y2, limits: list): \n",
    "    '''\n",
    "        function to calaculate line between two points\n",
    "        returns the koordinates to plot the line \n",
    "    '''\n",
    "    m = (y2-y1)/(x2-x1)\n",
    "    b = y1 - m * x1\n",
    "    gerade = list(map(lambda y: int((y-b)/m), limits))\n",
    "    koords = [[gerade[0], limits[0]], [gerade[1], limits[1]]]\n",
    "    return koords\n",
    "koords = calc_line_koords(koords_up[0], koords_up[1], koords_down[0], koords_down[1]+3000, [0,4000])\n"
   ]
  },
  {
   "cell_type": "code",
   "execution_count": null,
   "metadata": {},
   "outputs": [],
   "source": [
    "test = cv2.line(c_new, koords[0], koords[1], [0,0,0], 20)\n",
    "plt.imshow(test)"
   ]
  },
  {
   "cell_type": "code",
   "execution_count": null,
   "metadata": {},
   "outputs": [],
   "source": [
    "derx=cv2.Sobel(black_short, cv2.CV_32F, 1, 0,)\n",
    "dery=cv2.Sobel(black_short, cv2.CV_32F, 0, 1,)\n",
    "gradmag=np.sqrt(derx**2 + dery**2)\n",
    "plt.imshow(gradmag > 250)\n",
    "gradmag_w = (gradmag > 250).astype('uint8')\n",
    "canny = cv2.Canny(black_short, 0, 0)\n",
    "plt.imshow(canny)"
   ]
  },
  {
   "cell_type": "code",
   "execution_count": null,
   "metadata": {},
   "outputs": [],
   "source": [
    "# canny = cv2.Canny(black_short,0 ,0,)\n",
    "# plt.imshow(canny)\n",
    "linesh = cv2.HoughLinesP(canny, 1, np.pi/180, 60,\n",
    "                        minLineLength=100, maxLineGap=300)\n",
    "\n",
    "lines=np.squeeze(linesh)\n",
    "black_new = cv2.merge((black_short, black_short, black_short))\n",
    "for (x1,y1,x2,y2) in lines:\n",
    "    cv2.line(black_new, (x1,y1), (x2,y2), (255,0,0), 20)\n",
    "plt.imshow(black_new)"
   ]
  },
  {
   "cell_type": "code",
   "execution_count": null,
   "metadata": {},
   "outputs": [],
   "source": [
    "# put mask on picture = mask has to be same shape \n",
    "new_img = cv2.bitwise_and(img, img, mask=black)\n",
    "plt.imshow(new_img)"
   ]
  },
  {
   "cell_type": "code",
   "execution_count": null,
   "metadata": {},
   "outputs": [],
   "source": [
    "# find the longes line in x and y \n",
    "height, width, _ = black_new.shape\n",
    "diffx = []\n",
    "diffy = []\n",
    "for (x1,y1,x2,y2) in lines:\n",
    "    diffx.append(x2-x1)\n",
    "    diffy.append(y2-y1)\n",
    "diffx.index(max(diffx))\n",
    "llinex = lines[diffx.index(max(diffx))]\n",
    "lliney = lines[diffy.index(max(diffy))]\n",
    "blank = np.zeros(black_new.shape, dtype=np.uint8)\n",
    "blank = cv2.line(blank, (llinex[0],llinex[1]), (llinex[2],llinex[3]), (255,255,255), 10)\n",
    "#blank = cv2.line(blank, (lliney[0],lliney[1]), (lliney[2],lliney[3]), (255,255,255), 10 ) \n",
    "blank = cv2.line(blank, (lliney[0],0), (lliney[2],height), (255,255,255), 10 ) \n",
    "blank = cv2.line(blank, (lliney[0]-50,lliney[1]), (lliney[2]-50,lliney[3]), (255,255,255), 10 )\n",
    "blank = cv2.line(blank, (lliney[0]+50,lliney[1]), (lliney[2]+50,lliney[3]), (255,255,255), 10 )\n",
    "plt.imshow(blank)"
   ]
  },
  {
   "attachments": {},
   "cell_type": "markdown",
   "metadata": {},
   "source": [
    "vertical line  -> longest line and connect it over the hole picture\n",
    "horizontal line -> extend it to the vertical line or check if longest horizontal line is left or right fromm the vertical line\n"
   ]
  },
  {
   "cell_type": "code",
   "execution_count": null,
   "metadata": {},
   "outputs": [],
   "source": [
    "#find intersections from script with offset line \n",
    "# so we get two/three intersections left and rigth from the \"masterline\"\n",
    "def find_intersection(l1, l2, offset):\n",
    "    x1=l1[0]; y1=l1[1]\n",
    "    x2=l1[2]; y2=l1[3]\n",
    "    x3=l2[0]+offset; y3=l2[1]\n",
    "    x4=l2[2]+offset; y4=l2[3]\n",
    "    denom=(x1-x2)*(y3-y4) - (y1-y2)*(x3-x4)\n",
    "    #print(denom)\n",
    "    if(denom):\n",
    "        px=((x1*y2-y1*x2)*(x3-x4) - (x1-x2)*(x3*y4-y3*x4))/denom \n",
    "        py=((x1*y2-y1*x2)*(y3-y4) - (y1-y2)*(x3*y4-y3*x4))/denom\n",
    "    else: \n",
    "        px=-1\n",
    "        py=-1\n",
    "    return (px,py)\n",
    "sy,sx=img.shape\n",
    "px=[]\n",
    "py=[]\n",
    "for x in range(-50,50,50):\n",
    "    p=find_intersection(llinex,lliney,x)\n",
    "    if(p[0]>0 and p[0]<sx and p[1]>0 and p[1]<sy):\n",
    "        px.append(p[0])\n",
    "        py.append(p[1])\n",
    "\n",
    "#res = final.copy()\n",
    "for x in range(len(px)):\n",
    "    blank = cv2.circle(blank, (px[x].astype('int'), py[x].astype('int')),10, [255,255,255])\n",
    "plt.imshow(blank)"
   ]
  },
  {
   "cell_type": "code",
   "execution_count": null,
   "metadata": {},
   "outputs": [],
   "source": [
    "#line to right or left\n",
    "if px[0] - px[1] < 0: \n",
    "    print(\"go left\")\n",
    "elif px[0] - px[1] > 0: \n",
    "    print(\"go right\")\n",
    "if len(px) > 2:\n",
    "    print(\"you can go left or right\") "
   ]
  }
 ],
 "metadata": {
  "kernelspec": {
   "display_name": "bums",
   "language": "python",
   "name": "python3"
  },
  "language_info": {
   "codemirror_mode": {
    "name": "ipython",
    "version": 3
   },
   "file_extension": ".py",
   "mimetype": "text/x-python",
   "name": "python",
   "nbconvert_exporter": "python",
   "pygments_lexer": "ipython3",
   "version": "3.10.0"
  },
  "orig_nbformat": 4
 },
 "nbformat": 4,
 "nbformat_minor": 2
}
