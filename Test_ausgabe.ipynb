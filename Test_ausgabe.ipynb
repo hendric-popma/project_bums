{
 "cells": [
  {
   "cell_type": "code",
   "execution_count": 2,
   "metadata": {},
   "outputs": [
    {
     "name": "stdout",
     "output_type": "stream",
     "text": [
      "Hallo Welt\n"
     ]
    }
   ],
   "source": [
    "import pyttsx3\n",
    "from Function import *\n",
    "\n",
    "# def variable_change_audio_output(new_value):\n",
    "\n",
    "\n",
    "#     #if new_value is not last_value:\n",
    "#         # Initialize the text-to-speech engine\n",
    "#         engine = pyttsx3.init()\n",
    "\n",
    "#         # standartised first Words\n",
    "#         standard1_str_= str(\"Eine bevorstehende Kreuzung wurde dedektiert!\")\n",
    "#         standard2_str_= str(\"Sie haben folgende Abbiegemöglichkeiten:\")\n",
    "#         # Convert the new value to a readable string\n",
    "#         value_str = str(new_value)\n",
    "\n",
    "#         # Configure voice properties\n",
    "#         engine.setProperty('rate', 150)  # Speed of the speech output\n",
    "#         engine.setProperty('volume', 0.9)  # Volume of the speech output\n",
    "\n",
    "#         # Output the new value as audio\n",
    "#         engine.say(standard1_str_)\n",
    "#         engine.say(standard2_str_)\n",
    "#         engine.say(value_str)\n",
    "#         engine.runAndWait()\n",
    "\n",
    "#         last_value = new_value\n",
    "\n",
    "# Beispielverwendung:\n",
    "#my_variable = 42\n",
    "\n",
    "#variable_change_audio_output(my_variable)\n",
    "\n",
    "#my_variable = 42\n",
    "\n",
    "#variable_change_audio_output(my_variable)\n",
    "\n",
    "\n",
    "# Hier kannst du den neuen Wert deiner Variable zuweisen\n",
    "my_variable = \"links\"\n",
    "audio_output(my_variable)\n",
    "\n",
    "\n",
    "\n",
    "print(\"Hallo Welt\")\n"
   ]
  }
 ],
 "metadata": {
  "kernelspec": {
   "display_name": "bums",
   "language": "python",
   "name": "python3"
  },
  "language_info": {
   "codemirror_mode": {
    "name": "ipython",
    "version": 3
   },
   "file_extension": ".py",
   "mimetype": "text/x-python",
   "name": "python",
   "nbconvert_exporter": "python",
   "pygments_lexer": "ipython3",
   "version": "3.8.2"
  },
  "orig_nbformat": 4
 },
 "nbformat": 4,
 "nbformat_minor": 2
}
